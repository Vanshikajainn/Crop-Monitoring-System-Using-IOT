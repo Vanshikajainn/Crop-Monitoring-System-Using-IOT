{
  "cells": [
    {
      "cell_type": "markdown",
      "metadata": {
        "id": "view-in-github",
        "colab_type": "text"
      },
      "source": [
        "<a href=\"https://colab.research.google.com/github/Vanshikajainn/Crop-Monitoring-System-Using-IOT/blob/main/crop_recommender_system.ipynb\" target=\"_parent\"><img src=\"https://colab.research.google.com/assets/colab-badge.svg\" alt=\"Open In Colab\"/></a>"
      ]
    },
    {
      "cell_type": "code",
      "execution_count": null,
      "metadata": {
        "id": "hImtFtFHlf1d"
      },
      "outputs": [],
      "source": [
        "from __future__ import print_function\n",
        "import pandas as pd\n",
        "import numpy as np\n",
        "import matplotlib.pyplot as plt\n",
        "import seaborn as sns\n",
        "from sklearn.metrics import classification_report\n",
        "from sklearn import metrics\n",
        "from sklearn import tree"
      ]
    },
    {
      "cell_type": "markdown",
      "metadata": {
        "id": "a4xTudbzlf1e"
      },
      "source": [
        "<h3>Understanding the Dataset 💽</h3>\n"
      ]
    },
    {
      "cell_type": "code",
      "execution_count": null,
      "metadata": {
        "id": "j00UkxTclf1f"
      },
      "outputs": [],
      "source": [
        "data_path = '/content/Crop_recommendation_veg.csv'\n",
        "df = pd.read_csv(data_path)"
      ]
    },
    {
      "cell_type": "code",
      "execution_count": null,
      "metadata": {
        "colab": {
          "base_uri": "https://localhost:8080/",
          "height": 206
        },
        "id": "Kfp6emPtlf1g",
        "outputId": "c0534836-00f0-4a45-e6ef-827ffcf63153"
      },
      "outputs": [
        {
          "output_type": "execute_result",
          "data": {
            "text/plain": [
              "    N   P   K  temperature   humidity        ph    rainfall   label\n",
              "0  90  42  43    20.879744  82.002744  6.502985  202.935536  tomato\n",
              "1  85  58  41    21.770462  80.319644  7.038096  226.655537  tomato\n",
              "2  60  55  44    23.004459  82.320763  7.840207  263.964248  tomato\n",
              "3  74  35  40    26.491096  80.158363  6.980401  242.864034  tomato\n",
              "4  78  42  42    20.130175  81.604873  7.628473  262.717340  tomato"
            ],
            "text/html": [
              "\n",
              "  <div id=\"df-2ac1c469-4e09-4e26-a0c2-531eb845c1be\" class=\"colab-df-container\">\n",
              "    <div>\n",
              "<style scoped>\n",
              "    .dataframe tbody tr th:only-of-type {\n",
              "        vertical-align: middle;\n",
              "    }\n",
              "\n",
              "    .dataframe tbody tr th {\n",
              "        vertical-align: top;\n",
              "    }\n",
              "\n",
              "    .dataframe thead th {\n",
              "        text-align: right;\n",
              "    }\n",
              "</style>\n",
              "<table border=\"1\" class=\"dataframe\">\n",
              "  <thead>\n",
              "    <tr style=\"text-align: right;\">\n",
              "      <th></th>\n",
              "      <th>N</th>\n",
              "      <th>P</th>\n",
              "      <th>K</th>\n",
              "      <th>temperature</th>\n",
              "      <th>humidity</th>\n",
              "      <th>ph</th>\n",
              "      <th>rainfall</th>\n",
              "      <th>label</th>\n",
              "    </tr>\n",
              "  </thead>\n",
              "  <tbody>\n",
              "    <tr>\n",
              "      <th>0</th>\n",
              "      <td>90</td>\n",
              "      <td>42</td>\n",
              "      <td>43</td>\n",
              "      <td>20.879744</td>\n",
              "      <td>82.002744</td>\n",
              "      <td>6.502985</td>\n",
              "      <td>202.935536</td>\n",
              "      <td>tomato</td>\n",
              "    </tr>\n",
              "    <tr>\n",
              "      <th>1</th>\n",
              "      <td>85</td>\n",
              "      <td>58</td>\n",
              "      <td>41</td>\n",
              "      <td>21.770462</td>\n",
              "      <td>80.319644</td>\n",
              "      <td>7.038096</td>\n",
              "      <td>226.655537</td>\n",
              "      <td>tomato</td>\n",
              "    </tr>\n",
              "    <tr>\n",
              "      <th>2</th>\n",
              "      <td>60</td>\n",
              "      <td>55</td>\n",
              "      <td>44</td>\n",
              "      <td>23.004459</td>\n",
              "      <td>82.320763</td>\n",
              "      <td>7.840207</td>\n",
              "      <td>263.964248</td>\n",
              "      <td>tomato</td>\n",
              "    </tr>\n",
              "    <tr>\n",
              "      <th>3</th>\n",
              "      <td>74</td>\n",
              "      <td>35</td>\n",
              "      <td>40</td>\n",
              "      <td>26.491096</td>\n",
              "      <td>80.158363</td>\n",
              "      <td>6.980401</td>\n",
              "      <td>242.864034</td>\n",
              "      <td>tomato</td>\n",
              "    </tr>\n",
              "    <tr>\n",
              "      <th>4</th>\n",
              "      <td>78</td>\n",
              "      <td>42</td>\n",
              "      <td>42</td>\n",
              "      <td>20.130175</td>\n",
              "      <td>81.604873</td>\n",
              "      <td>7.628473</td>\n",
              "      <td>262.717340</td>\n",
              "      <td>tomato</td>\n",
              "    </tr>\n",
              "  </tbody>\n",
              "</table>\n",
              "</div>\n",
              "    <div class=\"colab-df-buttons\">\n",
              "\n",
              "  <div class=\"colab-df-container\">\n",
              "    <button class=\"colab-df-convert\" onclick=\"convertToInteractive('df-2ac1c469-4e09-4e26-a0c2-531eb845c1be')\"\n",
              "            title=\"Convert this dataframe to an interactive table.\"\n",
              "            style=\"display:none;\">\n",
              "\n",
              "  <svg xmlns=\"http://www.w3.org/2000/svg\" height=\"24px\" viewBox=\"0 -960 960 960\">\n",
              "    <path d=\"M120-120v-720h720v720H120Zm60-500h600v-160H180v160Zm220 220h160v-160H400v160Zm0 220h160v-160H400v160ZM180-400h160v-160H180v160Zm440 0h160v-160H620v160ZM180-180h160v-160H180v160Zm440 0h160v-160H620v160Z\"/>\n",
              "  </svg>\n",
              "    </button>\n",
              "\n",
              "  <style>\n",
              "    .colab-df-container {\n",
              "      display:flex;\n",
              "      gap: 12px;\n",
              "    }\n",
              "\n",
              "    .colab-df-convert {\n",
              "      background-color: #E8F0FE;\n",
              "      border: none;\n",
              "      border-radius: 50%;\n",
              "      cursor: pointer;\n",
              "      display: none;\n",
              "      fill: #1967D2;\n",
              "      height: 32px;\n",
              "      padding: 0 0 0 0;\n",
              "      width: 32px;\n",
              "    }\n",
              "\n",
              "    .colab-df-convert:hover {\n",
              "      background-color: #E2EBFA;\n",
              "      box-shadow: 0px 1px 2px rgba(60, 64, 67, 0.3), 0px 1px 3px 1px rgba(60, 64, 67, 0.15);\n",
              "      fill: #174EA6;\n",
              "    }\n",
              "\n",
              "    .colab-df-buttons div {\n",
              "      margin-bottom: 4px;\n",
              "    }\n",
              "\n",
              "    [theme=dark] .colab-df-convert {\n",
              "      background-color: #3B4455;\n",
              "      fill: #D2E3FC;\n",
              "    }\n",
              "\n",
              "    [theme=dark] .colab-df-convert:hover {\n",
              "      background-color: #434B5C;\n",
              "      box-shadow: 0px 1px 3px 1px rgba(0, 0, 0, 0.15);\n",
              "      filter: drop-shadow(0px 1px 2px rgba(0, 0, 0, 0.3));\n",
              "      fill: #FFFFFF;\n",
              "    }\n",
              "  </style>\n",
              "\n",
              "    <script>\n",
              "      const buttonEl =\n",
              "        document.querySelector('#df-2ac1c469-4e09-4e26-a0c2-531eb845c1be button.colab-df-convert');\n",
              "      buttonEl.style.display =\n",
              "        google.colab.kernel.accessAllowed ? 'block' : 'none';\n",
              "\n",
              "      async function convertToInteractive(key) {\n",
              "        const element = document.querySelector('#df-2ac1c469-4e09-4e26-a0c2-531eb845c1be');\n",
              "        const dataTable =\n",
              "          await google.colab.kernel.invokeFunction('convertToInteractive',\n",
              "                                                    [key], {});\n",
              "        if (!dataTable) return;\n",
              "\n",
              "        const docLinkHtml = 'Like what you see? Visit the ' +\n",
              "          '<a target=\"_blank\" href=https://colab.research.google.com/notebooks/data_table.ipynb>data table notebook</a>'\n",
              "          + ' to learn more about interactive tables.';\n",
              "        element.innerHTML = '';\n",
              "        dataTable['output_type'] = 'display_data';\n",
              "        await google.colab.output.renderOutput(dataTable, element);\n",
              "        const docLink = document.createElement('div');\n",
              "        docLink.innerHTML = docLinkHtml;\n",
              "        element.appendChild(docLink);\n",
              "      }\n",
              "    </script>\n",
              "  </div>\n",
              "\n",
              "\n",
              "<div id=\"df-a65a9066-55be-405e-8dac-6ba4fd67cffb\">\n",
              "  <button class=\"colab-df-quickchart\" onclick=\"quickchart('df-a65a9066-55be-405e-8dac-6ba4fd67cffb')\"\n",
              "            title=\"Suggest charts\"\n",
              "            style=\"display:none;\">\n",
              "\n",
              "<svg xmlns=\"http://www.w3.org/2000/svg\" height=\"24px\"viewBox=\"0 0 24 24\"\n",
              "     width=\"24px\">\n",
              "    <g>\n",
              "        <path d=\"M19 3H5c-1.1 0-2 .9-2 2v14c0 1.1.9 2 2 2h14c1.1 0 2-.9 2-2V5c0-1.1-.9-2-2-2zM9 17H7v-7h2v7zm4 0h-2V7h2v10zm4 0h-2v-4h2v4z\"/>\n",
              "    </g>\n",
              "</svg>\n",
              "  </button>\n",
              "\n",
              "<style>\n",
              "  .colab-df-quickchart {\n",
              "      --bg-color: #E8F0FE;\n",
              "      --fill-color: #1967D2;\n",
              "      --hover-bg-color: #E2EBFA;\n",
              "      --hover-fill-color: #174EA6;\n",
              "      --disabled-fill-color: #AAA;\n",
              "      --disabled-bg-color: #DDD;\n",
              "  }\n",
              "\n",
              "  [theme=dark] .colab-df-quickchart {\n",
              "      --bg-color: #3B4455;\n",
              "      --fill-color: #D2E3FC;\n",
              "      --hover-bg-color: #434B5C;\n",
              "      --hover-fill-color: #FFFFFF;\n",
              "      --disabled-bg-color: #3B4455;\n",
              "      --disabled-fill-color: #666;\n",
              "  }\n",
              "\n",
              "  .colab-df-quickchart {\n",
              "    background-color: var(--bg-color);\n",
              "    border: none;\n",
              "    border-radius: 50%;\n",
              "    cursor: pointer;\n",
              "    display: none;\n",
              "    fill: var(--fill-color);\n",
              "    height: 32px;\n",
              "    padding: 0;\n",
              "    width: 32px;\n",
              "  }\n",
              "\n",
              "  .colab-df-quickchart:hover {\n",
              "    background-color: var(--hover-bg-color);\n",
              "    box-shadow: 0 1px 2px rgba(60, 64, 67, 0.3), 0 1px 3px 1px rgba(60, 64, 67, 0.15);\n",
              "    fill: var(--button-hover-fill-color);\n",
              "  }\n",
              "\n",
              "  .colab-df-quickchart-complete:disabled,\n",
              "  .colab-df-quickchart-complete:disabled:hover {\n",
              "    background-color: var(--disabled-bg-color);\n",
              "    fill: var(--disabled-fill-color);\n",
              "    box-shadow: none;\n",
              "  }\n",
              "\n",
              "  .colab-df-spinner {\n",
              "    border: 2px solid var(--fill-color);\n",
              "    border-color: transparent;\n",
              "    border-bottom-color: var(--fill-color);\n",
              "    animation:\n",
              "      spin 1s steps(1) infinite;\n",
              "  }\n",
              "\n",
              "  @keyframes spin {\n",
              "    0% {\n",
              "      border-color: transparent;\n",
              "      border-bottom-color: var(--fill-color);\n",
              "      border-left-color: var(--fill-color);\n",
              "    }\n",
              "    20% {\n",
              "      border-color: transparent;\n",
              "      border-left-color: var(--fill-color);\n",
              "      border-top-color: var(--fill-color);\n",
              "    }\n",
              "    30% {\n",
              "      border-color: transparent;\n",
              "      border-left-color: var(--fill-color);\n",
              "      border-top-color: var(--fill-color);\n",
              "      border-right-color: var(--fill-color);\n",
              "    }\n",
              "    40% {\n",
              "      border-color: transparent;\n",
              "      border-right-color: var(--fill-color);\n",
              "      border-top-color: var(--fill-color);\n",
              "    }\n",
              "    60% {\n",
              "      border-color: transparent;\n",
              "      border-right-color: var(--fill-color);\n",
              "    }\n",
              "    80% {\n",
              "      border-color: transparent;\n",
              "      border-right-color: var(--fill-color);\n",
              "      border-bottom-color: var(--fill-color);\n",
              "    }\n",
              "    90% {\n",
              "      border-color: transparent;\n",
              "      border-bottom-color: var(--fill-color);\n",
              "    }\n",
              "  }\n",
              "</style>\n",
              "\n",
              "  <script>\n",
              "    async function quickchart(key) {\n",
              "      const quickchartButtonEl =\n",
              "        document.querySelector('#' + key + ' button');\n",
              "      quickchartButtonEl.disabled = true;  // To prevent multiple clicks.\n",
              "      quickchartButtonEl.classList.add('colab-df-spinner');\n",
              "      try {\n",
              "        const charts = await google.colab.kernel.invokeFunction(\n",
              "            'suggestCharts', [key], {});\n",
              "      } catch (error) {\n",
              "        console.error('Error during call to suggestCharts:', error);\n",
              "      }\n",
              "      quickchartButtonEl.classList.remove('colab-df-spinner');\n",
              "      quickchartButtonEl.classList.add('colab-df-quickchart-complete');\n",
              "    }\n",
              "    (() => {\n",
              "      let quickchartButtonEl =\n",
              "        document.querySelector('#df-a65a9066-55be-405e-8dac-6ba4fd67cffb button');\n",
              "      quickchartButtonEl.style.display =\n",
              "        google.colab.kernel.accessAllowed ? 'block' : 'none';\n",
              "    })();\n",
              "  </script>\n",
              "</div>\n",
              "\n",
              "    </div>\n",
              "  </div>\n"
            ],
            "application/vnd.google.colaboratory.intrinsic+json": {
              "type": "dataframe",
              "variable_name": "df",
              "summary": "{\n  \"name\": \"df\",\n  \"rows\": 2100,\n  \"fields\": [\n    {\n      \"column\": \"N\",\n      \"properties\": {\n        \"dtype\": \"number\",\n        \"std\": 35,\n        \"min\": 0,\n        \"max\": 140,\n        \"num_unique_values\": 137,\n        \"samples\": [\n          106,\n          101,\n          88\n        ],\n        \"semantic_type\": \"\",\n        \"description\": \"\"\n      }\n    },\n    {\n      \"column\": \"P\",\n      \"properties\": {\n        \"dtype\": \"number\",\n        \"std\": 33,\n        \"min\": 5,\n        \"max\": 145,\n        \"num_unique_values\": 117,\n        \"samples\": [\n          69,\n          37,\n          11\n        ],\n        \"semantic_type\": \"\",\n        \"description\": \"\"\n      }\n    },\n    {\n      \"column\": \"K\",\n      \"properties\": {\n        \"dtype\": \"number\",\n        \"std\": 51,\n        \"min\": 5,\n        \"max\": 205,\n        \"num_unique_values\": 73,\n        \"samples\": [\n          42,\n          12,\n          15\n        ],\n        \"semantic_type\": \"\",\n        \"description\": \"\"\n      }\n    },\n    {\n      \"column\": \"temperature\",\n      \"properties\": {\n        \"dtype\": \"number\",\n        \"std\": 5.172656583027343,\n        \"min\": 8.825674745,\n        \"max\": 43.67549305,\n        \"num_unique_values\": 2100,\n        \"samples\": [\n          29.16093424,\n          31.09154239,\n          25.78720567\n        ],\n        \"semantic_type\": \"\",\n        \"description\": \"\"\n      }\n    },\n    {\n      \"column\": \"humidity\",\n      \"properties\": {\n        \"dtype\": \"number\",\n        \"std\": 22.577547090408522,\n        \"min\": 14.25803981,\n        \"max\": 99.98187601,\n        \"num_unique_values\": 2100,\n        \"samples\": [\n          76.67484233,\n          47.02058367,\n          82.11124033\n        ],\n        \"semantic_type\": \"\",\n        \"description\": \"\"\n      }\n    },\n    {\n      \"column\": \"ph\",\n      \"properties\": {\n        \"dtype\": \"number\",\n        \"std\": 0.7836912112452576,\n        \"min\": 3.504752314,\n        \"max\": 9.93509073,\n        \"num_unique_values\": 2100,\n        \"samples\": [\n          5.618094446,\n          4.791146778,\n          6.946636369\n        ],\n        \"semantic_type\": \"\",\n        \"description\": \"\"\n      }\n    },\n    {\n      \"column\": \"rainfall\",\n      \"properties\": {\n        \"dtype\": \"number\",\n        \"std\": 54.62945343459767,\n        \"min\": 20.21126747,\n        \"max\": 298.5601175,\n        \"num_unique_values\": 2100,\n        \"samples\": [\n          109.575944,\n          91.46664318,\n          243.5120414\n        ],\n        \"semantic_type\": \"\",\n        \"description\": \"\"\n      }\n    },\n    {\n      \"column\": \"label\",\n      \"properties\": {\n        \"dtype\": \"category\",\n        \"num_unique_values\": 21,\n        \"samples\": [\n          \"tomato\",\n          \"potato\",\n          \"apple\"\n        ],\n        \"semantic_type\": \"\",\n        \"description\": \"\"\n      }\n    }\n  ]\n}"
            }
          },
          "metadata": {},
          "execution_count": 3
        }
      ],
      "source": [
        "df.head()"
      ]
    },
    {
      "cell_type": "code",
      "execution_count": null,
      "metadata": {
        "colab": {
          "base_uri": "https://localhost:8080/",
          "height": 206
        },
        "id": "BSguNIizlf1h",
        "outputId": "b059fc96-2814-47e0-cd29-0ab4213642cd"
      },
      "outputs": [
        {
          "output_type": "execute_result",
          "data": {
            "text/plain": [
              "       N   P   K  temperature   humidity        ph    rainfall  label\n",
              "2095  87  44  43    23.874845  86.792613  6.718725  177.514731  onion\n",
              "2096  88  52  39    23.928879  88.071123  6.880205  154.660874  onion\n",
              "2097  90  39  37    24.814412  81.686889  6.861069  190.788639  onion\n",
              "2098  90  39  43    24.447439  82.286484  6.769346  190.968489  onion\n",
              "2099  84  38  43    26.574217  73.819949  7.261581  159.322307  onion"
            ],
            "text/html": [
              "\n",
              "  <div id=\"df-fe0d1346-c316-4897-997f-39c9897ec1c4\" class=\"colab-df-container\">\n",
              "    <div>\n",
              "<style scoped>\n",
              "    .dataframe tbody tr th:only-of-type {\n",
              "        vertical-align: middle;\n",
              "    }\n",
              "\n",
              "    .dataframe tbody tr th {\n",
              "        vertical-align: top;\n",
              "    }\n",
              "\n",
              "    .dataframe thead th {\n",
              "        text-align: right;\n",
              "    }\n",
              "</style>\n",
              "<table border=\"1\" class=\"dataframe\">\n",
              "  <thead>\n",
              "    <tr style=\"text-align: right;\">\n",
              "      <th></th>\n",
              "      <th>N</th>\n",
              "      <th>P</th>\n",
              "      <th>K</th>\n",
              "      <th>temperature</th>\n",
              "      <th>humidity</th>\n",
              "      <th>ph</th>\n",
              "      <th>rainfall</th>\n",
              "      <th>label</th>\n",
              "    </tr>\n",
              "  </thead>\n",
              "  <tbody>\n",
              "    <tr>\n",
              "      <th>2095</th>\n",
              "      <td>87</td>\n",
              "      <td>44</td>\n",
              "      <td>43</td>\n",
              "      <td>23.874845</td>\n",
              "      <td>86.792613</td>\n",
              "      <td>6.718725</td>\n",
              "      <td>177.514731</td>\n",
              "      <td>onion</td>\n",
              "    </tr>\n",
              "    <tr>\n",
              "      <th>2096</th>\n",
              "      <td>88</td>\n",
              "      <td>52</td>\n",
              "      <td>39</td>\n",
              "      <td>23.928879</td>\n",
              "      <td>88.071123</td>\n",
              "      <td>6.880205</td>\n",
              "      <td>154.660874</td>\n",
              "      <td>onion</td>\n",
              "    </tr>\n",
              "    <tr>\n",
              "      <th>2097</th>\n",
              "      <td>90</td>\n",
              "      <td>39</td>\n",
              "      <td>37</td>\n",
              "      <td>24.814412</td>\n",
              "      <td>81.686889</td>\n",
              "      <td>6.861069</td>\n",
              "      <td>190.788639</td>\n",
              "      <td>onion</td>\n",
              "    </tr>\n",
              "    <tr>\n",
              "      <th>2098</th>\n",
              "      <td>90</td>\n",
              "      <td>39</td>\n",
              "      <td>43</td>\n",
              "      <td>24.447439</td>\n",
              "      <td>82.286484</td>\n",
              "      <td>6.769346</td>\n",
              "      <td>190.968489</td>\n",
              "      <td>onion</td>\n",
              "    </tr>\n",
              "    <tr>\n",
              "      <th>2099</th>\n",
              "      <td>84</td>\n",
              "      <td>38</td>\n",
              "      <td>43</td>\n",
              "      <td>26.574217</td>\n",
              "      <td>73.819949</td>\n",
              "      <td>7.261581</td>\n",
              "      <td>159.322307</td>\n",
              "      <td>onion</td>\n",
              "    </tr>\n",
              "  </tbody>\n",
              "</table>\n",
              "</div>\n",
              "    <div class=\"colab-df-buttons\">\n",
              "\n",
              "  <div class=\"colab-df-container\">\n",
              "    <button class=\"colab-df-convert\" onclick=\"convertToInteractive('df-fe0d1346-c316-4897-997f-39c9897ec1c4')\"\n",
              "            title=\"Convert this dataframe to an interactive table.\"\n",
              "            style=\"display:none;\">\n",
              "\n",
              "  <svg xmlns=\"http://www.w3.org/2000/svg\" height=\"24px\" viewBox=\"0 -960 960 960\">\n",
              "    <path d=\"M120-120v-720h720v720H120Zm60-500h600v-160H180v160Zm220 220h160v-160H400v160Zm0 220h160v-160H400v160ZM180-400h160v-160H180v160Zm440 0h160v-160H620v160ZM180-180h160v-160H180v160Zm440 0h160v-160H620v160Z\"/>\n",
              "  </svg>\n",
              "    </button>\n",
              "\n",
              "  <style>\n",
              "    .colab-df-container {\n",
              "      display:flex;\n",
              "      gap: 12px;\n",
              "    }\n",
              "\n",
              "    .colab-df-convert {\n",
              "      background-color: #E8F0FE;\n",
              "      border: none;\n",
              "      border-radius: 50%;\n",
              "      cursor: pointer;\n",
              "      display: none;\n",
              "      fill: #1967D2;\n",
              "      height: 32px;\n",
              "      padding: 0 0 0 0;\n",
              "      width: 32px;\n",
              "    }\n",
              "\n",
              "    .colab-df-convert:hover {\n",
              "      background-color: #E2EBFA;\n",
              "      box-shadow: 0px 1px 2px rgba(60, 64, 67, 0.3), 0px 1px 3px 1px rgba(60, 64, 67, 0.15);\n",
              "      fill: #174EA6;\n",
              "    }\n",
              "\n",
              "    .colab-df-buttons div {\n",
              "      margin-bottom: 4px;\n",
              "    }\n",
              "\n",
              "    [theme=dark] .colab-df-convert {\n",
              "      background-color: #3B4455;\n",
              "      fill: #D2E3FC;\n",
              "    }\n",
              "\n",
              "    [theme=dark] .colab-df-convert:hover {\n",
              "      background-color: #434B5C;\n",
              "      box-shadow: 0px 1px 3px 1px rgba(0, 0, 0, 0.15);\n",
              "      filter: drop-shadow(0px 1px 2px rgba(0, 0, 0, 0.3));\n",
              "      fill: #FFFFFF;\n",
              "    }\n",
              "  </style>\n",
              "\n",
              "    <script>\n",
              "      const buttonEl =\n",
              "        document.querySelector('#df-fe0d1346-c316-4897-997f-39c9897ec1c4 button.colab-df-convert');\n",
              "      buttonEl.style.display =\n",
              "        google.colab.kernel.accessAllowed ? 'block' : 'none';\n",
              "\n",
              "      async function convertToInteractive(key) {\n",
              "        const element = document.querySelector('#df-fe0d1346-c316-4897-997f-39c9897ec1c4');\n",
              "        const dataTable =\n",
              "          await google.colab.kernel.invokeFunction('convertToInteractive',\n",
              "                                                    [key], {});\n",
              "        if (!dataTable) return;\n",
              "\n",
              "        const docLinkHtml = 'Like what you see? Visit the ' +\n",
              "          '<a target=\"_blank\" href=https://colab.research.google.com/notebooks/data_table.ipynb>data table notebook</a>'\n",
              "          + ' to learn more about interactive tables.';\n",
              "        element.innerHTML = '';\n",
              "        dataTable['output_type'] = 'display_data';\n",
              "        await google.colab.output.renderOutput(dataTable, element);\n",
              "        const docLink = document.createElement('div');\n",
              "        docLink.innerHTML = docLinkHtml;\n",
              "        element.appendChild(docLink);\n",
              "      }\n",
              "    </script>\n",
              "  </div>\n",
              "\n",
              "\n",
              "<div id=\"df-0a3200a2-2e7c-4777-b56a-7331d06e7f43\">\n",
              "  <button class=\"colab-df-quickchart\" onclick=\"quickchart('df-0a3200a2-2e7c-4777-b56a-7331d06e7f43')\"\n",
              "            title=\"Suggest charts\"\n",
              "            style=\"display:none;\">\n",
              "\n",
              "<svg xmlns=\"http://www.w3.org/2000/svg\" height=\"24px\"viewBox=\"0 0 24 24\"\n",
              "     width=\"24px\">\n",
              "    <g>\n",
              "        <path d=\"M19 3H5c-1.1 0-2 .9-2 2v14c0 1.1.9 2 2 2h14c1.1 0 2-.9 2-2V5c0-1.1-.9-2-2-2zM9 17H7v-7h2v7zm4 0h-2V7h2v10zm4 0h-2v-4h2v4z\"/>\n",
              "    </g>\n",
              "</svg>\n",
              "  </button>\n",
              "\n",
              "<style>\n",
              "  .colab-df-quickchart {\n",
              "      --bg-color: #E8F0FE;\n",
              "      --fill-color: #1967D2;\n",
              "      --hover-bg-color: #E2EBFA;\n",
              "      --hover-fill-color: #174EA6;\n",
              "      --disabled-fill-color: #AAA;\n",
              "      --disabled-bg-color: #DDD;\n",
              "  }\n",
              "\n",
              "  [theme=dark] .colab-df-quickchart {\n",
              "      --bg-color: #3B4455;\n",
              "      --fill-color: #D2E3FC;\n",
              "      --hover-bg-color: #434B5C;\n",
              "      --hover-fill-color: #FFFFFF;\n",
              "      --disabled-bg-color: #3B4455;\n",
              "      --disabled-fill-color: #666;\n",
              "  }\n",
              "\n",
              "  .colab-df-quickchart {\n",
              "    background-color: var(--bg-color);\n",
              "    border: none;\n",
              "    border-radius: 50%;\n",
              "    cursor: pointer;\n",
              "    display: none;\n",
              "    fill: var(--fill-color);\n",
              "    height: 32px;\n",
              "    padding: 0;\n",
              "    width: 32px;\n",
              "  }\n",
              "\n",
              "  .colab-df-quickchart:hover {\n",
              "    background-color: var(--hover-bg-color);\n",
              "    box-shadow: 0 1px 2px rgba(60, 64, 67, 0.3), 0 1px 3px 1px rgba(60, 64, 67, 0.15);\n",
              "    fill: var(--button-hover-fill-color);\n",
              "  }\n",
              "\n",
              "  .colab-df-quickchart-complete:disabled,\n",
              "  .colab-df-quickchart-complete:disabled:hover {\n",
              "    background-color: var(--disabled-bg-color);\n",
              "    fill: var(--disabled-fill-color);\n",
              "    box-shadow: none;\n",
              "  }\n",
              "\n",
              "  .colab-df-spinner {\n",
              "    border: 2px solid var(--fill-color);\n",
              "    border-color: transparent;\n",
              "    border-bottom-color: var(--fill-color);\n",
              "    animation:\n",
              "      spin 1s steps(1) infinite;\n",
              "  }\n",
              "\n",
              "  @keyframes spin {\n",
              "    0% {\n",
              "      border-color: transparent;\n",
              "      border-bottom-color: var(--fill-color);\n",
              "      border-left-color: var(--fill-color);\n",
              "    }\n",
              "    20% {\n",
              "      border-color: transparent;\n",
              "      border-left-color: var(--fill-color);\n",
              "      border-top-color: var(--fill-color);\n",
              "    }\n",
              "    30% {\n",
              "      border-color: transparent;\n",
              "      border-left-color: var(--fill-color);\n",
              "      border-top-color: var(--fill-color);\n",
              "      border-right-color: var(--fill-color);\n",
              "    }\n",
              "    40% {\n",
              "      border-color: transparent;\n",
              "      border-right-color: var(--fill-color);\n",
              "      border-top-color: var(--fill-color);\n",
              "    }\n",
              "    60% {\n",
              "      border-color: transparent;\n",
              "      border-right-color: var(--fill-color);\n",
              "    }\n",
              "    80% {\n",
              "      border-color: transparent;\n",
              "      border-right-color: var(--fill-color);\n",
              "      border-bottom-color: var(--fill-color);\n",
              "    }\n",
              "    90% {\n",
              "      border-color: transparent;\n",
              "      border-bottom-color: var(--fill-color);\n",
              "    }\n",
              "  }\n",
              "</style>\n",
              "\n",
              "  <script>\n",
              "    async function quickchart(key) {\n",
              "      const quickchartButtonEl =\n",
              "        document.querySelector('#' + key + ' button');\n",
              "      quickchartButtonEl.disabled = true;  // To prevent multiple clicks.\n",
              "      quickchartButtonEl.classList.add('colab-df-spinner');\n",
              "      try {\n",
              "        const charts = await google.colab.kernel.invokeFunction(\n",
              "            'suggestCharts', [key], {});\n",
              "      } catch (error) {\n",
              "        console.error('Error during call to suggestCharts:', error);\n",
              "      }\n",
              "      quickchartButtonEl.classList.remove('colab-df-spinner');\n",
              "      quickchartButtonEl.classList.add('colab-df-quickchart-complete');\n",
              "    }\n",
              "    (() => {\n",
              "      let quickchartButtonEl =\n",
              "        document.querySelector('#df-0a3200a2-2e7c-4777-b56a-7331d06e7f43 button');\n",
              "      quickchartButtonEl.style.display =\n",
              "        google.colab.kernel.accessAllowed ? 'block' : 'none';\n",
              "    })();\n",
              "  </script>\n",
              "</div>\n",
              "\n",
              "    </div>\n",
              "  </div>\n"
            ],
            "application/vnd.google.colaboratory.intrinsic+json": {
              "type": "dataframe",
              "summary": "{\n  \"name\": \"df\",\n  \"rows\": 5,\n  \"fields\": [\n    {\n      \"column\": \"N\",\n      \"properties\": {\n        \"dtype\": \"number\",\n        \"std\": 2,\n        \"min\": 84,\n        \"max\": 90,\n        \"num_unique_values\": 4,\n        \"samples\": [\n          88,\n          84,\n          87\n        ],\n        \"semantic_type\": \"\",\n        \"description\": \"\"\n      }\n    },\n    {\n      \"column\": \"P\",\n      \"properties\": {\n        \"dtype\": \"number\",\n        \"std\": 5,\n        \"min\": 38,\n        \"max\": 52,\n        \"num_unique_values\": 4,\n        \"samples\": [\n          52,\n          38,\n          44\n        ],\n        \"semantic_type\": \"\",\n        \"description\": \"\"\n      }\n    },\n    {\n      \"column\": \"K\",\n      \"properties\": {\n        \"dtype\": \"number\",\n        \"std\": 2,\n        \"min\": 37,\n        \"max\": 43,\n        \"num_unique_values\": 3,\n        \"samples\": [\n          43,\n          39,\n          37\n        ],\n        \"semantic_type\": \"\",\n        \"description\": \"\"\n      }\n    },\n    {\n      \"column\": \"temperature\",\n      \"properties\": {\n        \"dtype\": \"number\",\n        \"std\": 1.102402621553893,\n        \"min\": 23.87484465,\n        \"max\": 26.57421679,\n        \"num_unique_values\": 5,\n        \"samples\": [\n          23.92887902,\n          26.57421679,\n          24.81441246\n        ],\n        \"semantic_type\": \"\",\n        \"description\": \"\"\n      }\n    },\n    {\n      \"column\": \"humidity\",\n      \"properties\": {\n        \"dtype\": \"number\",\n        \"std\": 5.601540652200161,\n        \"min\": 73.81994896,\n        \"max\": 88.07112278,\n        \"num_unique_values\": 5,\n        \"samples\": [\n          88.07112278,\n          73.81994896,\n          81.68688879\n        ],\n        \"semantic_type\": \"\",\n        \"description\": \"\"\n      }\n    },\n    {\n      \"column\": \"ph\",\n      \"properties\": {\n        \"dtype\": \"number\",\n        \"std\": 0.2136368810534201,\n        \"min\": 6.718725189,\n        \"max\": 7.26158085,\n        \"num_unique_values\": 5,\n        \"samples\": [\n          6.880204617,\n          7.26158085,\n          6.86106911\n        ],\n        \"semantic_type\": \"\",\n        \"description\": \"\"\n      }\n    },\n    {\n      \"column\": \"rainfall\",\n      \"properties\": {\n        \"dtype\": \"number\",\n        \"std\": 17.098674910191605,\n        \"min\": 154.6608736,\n        \"max\": 190.9684885,\n        \"num_unique_values\": 5,\n        \"samples\": [\n          154.6608736,\n          159.3223075,\n          190.7886386\n        ],\n        \"semantic_type\": \"\",\n        \"description\": \"\"\n      }\n    },\n    {\n      \"column\": \"label\",\n      \"properties\": {\n        \"dtype\": \"category\",\n        \"num_unique_values\": 1,\n        \"samples\": [\n          \"onion\"\n        ],\n        \"semantic_type\": \"\",\n        \"description\": \"\"\n      }\n    }\n  ]\n}"
            }
          },
          "metadata": {},
          "execution_count": 4
        }
      ],
      "source": [
        "df.tail()"
      ]
    },
    {
      "cell_type": "code",
      "execution_count": null,
      "metadata": {
        "colab": {
          "base_uri": "https://localhost:8080/"
        },
        "id": "1Zjiy1Sylf1i",
        "outputId": "81c6304e-c57e-4c2b-9e4b-c0c463f701e9"
      },
      "outputs": [
        {
          "output_type": "stream",
          "name": "stdout",
          "text": [
            "Rows, Cols = (2100, 8)\n",
            "Rows * Cols = 16800\n"
          ]
        }
      ],
      "source": [
        "print(f\"Rows, Cols = {df.shape}\")\n",
        "print(f\"Rows * Cols = {df.size}\")"
      ]
    },
    {
      "cell_type": "code",
      "execution_count": null,
      "metadata": {
        "colab": {
          "base_uri": "https://localhost:8080/"
        },
        "id": "B4OsP1wRlf1j",
        "outputId": "f1959c78-cb4f-4d2e-eebd-b6d2be356ccc"
      },
      "outputs": [
        {
          "output_type": "execute_result",
          "data": {
            "text/plain": [
              "Index(['N', 'P', 'K', 'temperature', 'humidity', 'ph', 'rainfall', 'label'], dtype='object')"
            ]
          },
          "metadata": {},
          "execution_count": 6
        }
      ],
      "source": [
        "# The features of our dataset\n",
        "df.columns"
      ]
    },
    {
      "cell_type": "code",
      "execution_count": null,
      "metadata": {
        "colab": {
          "base_uri": "https://localhost:8080/"
        },
        "id": "6BYTxWZHlf1k",
        "outputId": "fcf8cfd0-8bf3-4100-af11-f807aa8e7605"
      },
      "outputs": [
        {
          "output_type": "execute_result",
          "data": {
            "text/plain": [
              "array(['tomato', 'cauliflower', 'pumpkin', 'cabbage', 'eggplant',\n",
              "       'cucumber', 'spinach', 'beetroot', 'capsicum', 'basil',\n",
              "       'ladyFinger', 'chilli', 'lettuce', 'corn', 'peas', 'apple',\n",
              "       'orange', 'potato', 'carrot', 'raddish', 'onion'], dtype=object)"
            ]
          },
          "metadata": {},
          "execution_count": 7
        }
      ],
      "source": [
        "# The labels on which recommendation will be performed\n",
        "df['label'].unique()"
      ]
    },
    {
      "cell_type": "code",
      "execution_count": null,
      "metadata": {
        "colab": {
          "base_uri": "https://localhost:8080/",
          "height": 527
        },
        "id": "Zl9ndaLilf1l",
        "outputId": "ae9573c9-b936-4675-aad3-7d82028c0dee"
      },
      "outputs": [
        {
          "output_type": "execute_result",
          "data": {
            "text/plain": [
              "<Axes: >"
            ]
          },
          "metadata": {},
          "execution_count": 8
        },
        {
          "output_type": "display_data",
          "data": {
            "text/plain": [
              "<Figure size 640x480 with 2 Axes>"
            ],
            "image/png": "[encoded data removed]"
          },
          "metadata": {}
        }
      ],
      "source": [
        "# Making a heatmap of the dataset correlation : including only numerical data\n",
        "linewidth = 2\n",
        "linecolor = \"red\"\n",
        "\n",
        "sns.heatmap(data=df.select_dtypes(include='number').corr(),\n",
        "            annot=True,\n",
        "            linewidth = linewidth,\n",
        "            linecolor = linecolor)"
      ]
    },
    {
      "cell_type": "code",
      "execution_count": null,
      "metadata": {
        "id": "MIOouQowlf1m"
      },
      "outputs": [],
      "source": [
        "from sklearn.model_selection import train_test_split\n",
        "features = df[['N', 'P', 'K', 'temperature', 'humidity', 'ph', 'rainfall']]\n",
        "target = df['label']\n",
        "\n",
        "xtrain, xtest, ytrain, ytest = train_test_split(features,\n",
        "                                                target,\n",
        "                                                test_size = 0.2,\n",
        "                                                random_state = None)"
      ]
    },
    {
      "cell_type": "code",
      "execution_count": null,
      "metadata": {
        "id": "bhIvgvuRlf1m"
      },
      "outputs": [],
      "source": [
        "# Defining a dictionary such that key = modelname and value = accuracy of the model\n",
        "best_model = {}"
      ]
    },
    {
      "cell_type": "markdown",
      "metadata": {
        "id": "c3inXKbUlf1n"
      },
      "source": [
        "<h3>Cross Validation Accuracy</h3>"
      ]
    },
    {
      "cell_type": "code",
      "execution_count": null,
      "metadata": {
        "id": "I2ARsS5Slf1n"
      },
      "outputs": [],
      "source": [
        "from sklearn.model_selection import cross_val_score\n",
        "\n",
        "def cross_val_accuracy(model):\n",
        "    # This function calculates the mean cross validation accuracy\n",
        "    score = cross_val_score(model, features, target,cv=5)\n",
        "    #get the mean of each fold\n",
        "    return score.mean() * 100"
      ]
    },
    {
      "cell_type": "markdown",
      "metadata": {
        "id": "IdnkJe8ilf1n"
      },
      "source": [
        "<h3>Saving the models 📦</h3>"
      ]
    },
    {
      "cell_type": "code",
      "execution_count": null,
      "metadata": {
        "id": "go3oT3xQlf1n"
      },
      "outputs": [],
      "source": [
        "import pickle\n",
        "\n",
        "def save_model(model, modelname):\n",
        "    #This function expects a model and a modelname(with .pkl extension)\n",
        "    # Setting model path\n",
        "    pkl_filename = modelname\n",
        "    # Open the file to save as pkl file\n",
        "    model_pkl = open(pkl_filename, 'wb')\n",
        "    #dump model\n",
        "    pickle.dump(model, model_pkl)\n",
        "    # Close the pickle instances\n",
        "    model_pkl.close()"
      ]
    },
    {
      "cell_type": "markdown",
      "metadata": {
        "id": "Glw5eptZlf1o"
      },
      "source": [
        "<h3>Logistic Regression</h3>"
      ]
    },
    {
      "cell_type": "code",
      "execution_count": null,
      "metadata": {
        "colab": {
          "base_uri": "https://localhost:8080/"
        },
        "id": "Lq4sBqOxlf1o",
        "outputId": "8c7a9ee7-357c-417e-cf84-d94d00908478"
      },
      "outputs": [
        {
          "output_type": "stream",
          "name": "stdout",
          "text": [
            "Accuracy: 0.969047619047619\n",
            "\n",
            "{'Logistic Regression': 96.9047619047619}\n"
          ]
        }
      ],
      "source": [
        "from sklearn.linear_model import LogisticRegression\n",
        "from sklearn.preprocessing import StandardScaler\n",
        "\n",
        "# Scale the data using StandardScaler\n",
        "scaler = StandardScaler()\n",
        "xtrain_scaled = scaler.fit_transform(xtrain)\n",
        "xtest_scaled = scaler.transform(xtest)\n",
        "\n",
        "# Create an instance of LogisticRegression\n",
        "logreg = LogisticRegression(max_iter=1000)\n",
        "\n",
        "# Fit the model to the scaled training data\n",
        "logreg.fit(xtrain_scaled, ytrain)\n",
        "\n",
        "# Use the model to make predictions on the test data\n",
        "ypred = logreg.predict(xtest_scaled)\n",
        "\n",
        "accuracy = metrics.accuracy_score(ytest, ypred)\n",
        "print(f\"Accuracy: {accuracy}\",end='\\n\\n')\n",
        "\n",
        "# Adding the model to our dictionary\n",
        "best_model[\"Logistic Regression\"] = accuracy*100\n",
        "print(best_model)"
      ]
    },
    {
      "cell_type": "code",
      "execution_count": null,
      "metadata": {
        "colab": {
          "base_uri": "https://localhost:8080/"
        },
        "id": "GoUTCY-alf1o",
        "outputId": "bdf8d896-58f3-4d92-d2e9-649a8238dad6"
      },
      "outputs": [
        {
          "output_type": "stream",
          "name": "stdout",
          "text": [
            "Cross-Validation Accuracy Scores: 97.09523809523809\n"
          ]
        }
      ],
      "source": [
        "from sklearn.pipeline import make_pipeline\n",
        "\n",
        "# Create a pipeline with data scaling and logistic regression\n",
        "pipeline = make_pipeline(StandardScaler(), LogisticRegression(max_iter=1000))\n",
        "\n",
        "# Perform cross-validation and calculate accuracy\n",
        "score = cross_val_score(pipeline, features, target, cv=5, scoring='accuracy')\n",
        "\n",
        "# Print the cross-validation accuracy scores\n",
        "print(\"Cross-Validation Accuracy Scores:\", score.mean() * 100)"
      ]
    },
    {
      "cell_type": "code",
      "execution_count": null,
      "metadata": {
        "id": "70b7G5w3lf1o"
      },
      "outputs": [],
      "source": [
        "save_model(logreg,'logreg.pkl')"
      ]
    },
    {
      "cell_type": "markdown",
      "metadata": {
        "id": "B_zrIF2xlf1p"
      },
      "source": [
        "<h3>Decision Tree 🌳</h3>"
      ]
    },
    {
      "cell_type": "code",
      "execution_count": null,
      "metadata": {
        "id": "_BJ1v7Splf1p",
        "colab": {
          "base_uri": "https://localhost:8080/"
        },
        "outputId": "b2c75f06-5d30-430e-a672-f3cfd222eac2"
      },
      "outputs": [
        {
          "output_type": "stream",
          "name": "stdout",
          "text": [
            "Accuracy: 0.9357142857142857\n",
            "\n",
            "{'Logistic Regression': 96.9047619047619, 'Decision Tree': 93.57142857142857}\n"
          ]
        }
      ],
      "source": [
        "from sklearn.tree import DecisionTreeClassifier\n",
        "\n",
        "DecisionTree = DecisionTreeClassifier(criterion = \"entropy\",\n",
        "                                     random_state = None,\n",
        "                                     max_depth = 5)\n",
        "# Fitting the training set to create a model\n",
        "DecisionTree.fit(xtrain,ytrain)\n",
        "# Using test(x) to find y\n",
        "ypred = DecisionTree.predict(xtest)\n",
        "# Checking whether the predicted y for test(x) matches actual test(y)\n",
        "accuracy = metrics.accuracy_score(ypred,ytest)\n",
        "print(f\"Accuracy: {accuracy}\",end='\\n\\n')\n",
        "\n",
        "# Adding the model to our dictionary\n",
        "best_model[\"Decision Tree\"] = accuracy*100\n",
        "print(best_model)"
      ]
    },
    {
      "cell_type": "code",
      "execution_count": null,
      "metadata": {
        "id": "W7q_GOMTlf1p",
        "colab": {
          "base_uri": "https://localhost:8080/"
        },
        "outputId": "32d6285e-e518-43ff-9897-15caf3ce9eae"
      },
      "outputs": [
        {
          "output_type": "stream",
          "name": "stdout",
          "text": [
            "Cross Validation Accuracy 93.80952380952381\n"
          ]
        }
      ],
      "source": [
        "print(f\"Cross Validation Accuracy {cross_val_accuracy(DecisionTree)}\")"
      ]
    },
    {
      "cell_type": "code",
      "execution_count": null,
      "metadata": {
        "id": "YH9PPVd5lf1q"
      },
      "outputs": [],
      "source": [
        "# save_model(DecisionTree,'DecisionTree.pkl')"
      ]
    },
    {
      "cell_type": "markdown",
      "metadata": {
        "id": "l30F2e0Llf1q"
      },
      "source": [
        "<h3>Random Forest</h3>"
      ]
    },
    {
      "cell_type": "code",
      "execution_count": null,
      "metadata": {
        "colab": {
          "base_uri": "https://localhost:8080/"
        },
        "id": "VzMY2DdPlf1q",
        "outputId": "9653d13d-d08e-42df-d3cc-54ff25c8902f"
      },
      "outputs": [
        {
          "output_type": "stream",
          "name": "stdout",
          "text": [
            "Accuracy: 0.9976190476190476\n",
            "\n",
            "{'Logistic Regression': 96.9047619047619, 'Decision Tree': 93.57142857142857, 'Random Forest': 99.76190476190476}\n"
          ]
        }
      ],
      "source": [
        "from sklearn.ensemble import RandomForestClassifier\n",
        "\n",
        "RandomForest = RandomForestClassifier(n_estimators=20, random_state=None)\n",
        "\n",
        "# Fitting the training set to create a model\n",
        "RandomForest.fit(xtrain,ytrain)\n",
        "# Using test(x) to find y\n",
        "ypred = RandomForest.predict(xtest)\n",
        "\n",
        "accuracy = metrics.accuracy_score(ypred, ytest)\n",
        "print(f\"Accuracy: {accuracy}\",end='\\n\\n')\n",
        "\n",
        "# Adding the model to our dictionary\n",
        "best_model[\"Random Forest\"] = accuracy*100\n",
        "print(best_model)"
      ]
    },
    {
      "cell_type": "code",
      "execution_count": null,
      "metadata": {
        "colab": {
          "base_uri": "https://localhost:8080/"
        },
        "id": "LAKFE63tlf1q",
        "outputId": "3521e5ff-ccfe-4865-9cda-8849128ca36e"
      },
      "outputs": [
        {
          "output_type": "stream",
          "name": "stdout",
          "text": [
            "Cross Validation Accuracy 99.33333333333334\n"
          ]
        }
      ],
      "source": [
        "print(f\"Cross Validation Accuracy {cross_val_accuracy(RandomForest)}\")"
      ]
    },
    {
      "cell_type": "code",
      "execution_count": null,
      "metadata": {
        "id": "09Kf9jkllf1q"
      },
      "outputs": [],
      "source": [
        "save_model(RandomForest,'RandomForest.pkl')"
      ]
    },
    {
      "cell_type": "markdown",
      "metadata": {
        "id": "2gGwQlkFlf1r"
      },
      "source": [
        "<h3> Gaussian Naive Bayes ⚾️🥎</h3>\n"
      ]
    },
    {
      "cell_type": "code",
      "execution_count": null,
      "metadata": {
        "id": "nncApFwJlf1r",
        "colab": {
          "base_uri": "https://localhost:8080/"
        },
        "outputId": "ec668fec-c461-45d6-e41f-f25e1af1b40d"
      },
      "outputs": [
        {
          "output_type": "stream",
          "name": "stdout",
          "text": [
            "Accuracy: 0.9952380952380953\n",
            "\n",
            "{'Logistic Regression': 96.9047619047619, 'Decision Tree': 93.57142857142857, 'Random Forest': 99.76190476190476, 'Naive Bayes': 99.52380952380952}\n"
          ]
        }
      ],
      "source": [
        "from sklearn.naive_bayes import GaussianNB\n",
        "\n",
        "NaiveBayes = GaussianNB()\n",
        "\n",
        "# Fitting the training set to create a model\n",
        "NaiveBayes.fit(xtrain,ytrain)\n",
        "# Using test(x) to find y\n",
        "ypred = NaiveBayes.predict(xtest)\n",
        "\n",
        "accuracy = metrics.accuracy_score(ypred,ytest)\n",
        "print(f\"Accuracy: {accuracy}\",end='\\n\\n')\n",
        "\n",
        "# Adding the model to our dictionary\n",
        "best_model[\"Naive Bayes\"] = accuracy*100\n",
        "print(best_model)"
      ]
    },
    {
      "cell_type": "code",
      "execution_count": null,
      "metadata": {
        "id": "fOAfGpY3lf1r",
        "colab": {
          "base_uri": "https://localhost:8080/"
        },
        "outputId": "2ee8d221-c73f-4b4e-a9bf-1422dfa7afd4"
      },
      "outputs": [
        {
          "output_type": "stream",
          "name": "stdout",
          "text": [
            "Cross Validation Accuracy 99.47619047619047\n"
          ]
        }
      ],
      "source": [
        "print(f\"Cross Validation Accuracy {cross_val_accuracy(NaiveBayes)}\")"
      ]
    },
    {
      "cell_type": "code",
      "execution_count": null,
      "metadata": {
        "id": "tPUbuwExlf1r"
      },
      "outputs": [],
      "source": [
        "save_model(NaiveBayes,'NaiveBayes.pkl')"
      ]
    },
    {
      "cell_type": "markdown",
      "metadata": {
        "id": "VaFYaJw3lf1s"
      },
      "source": [
        "<h3>Support Vector Machine</h3>"
      ]
    },
    {
      "cell_type": "code",
      "execution_count": null,
      "metadata": {
        "id": "8l4cJLcMlf1s",
        "colab": {
          "base_uri": "https://localhost:8080/"
        },
        "outputId": "a3473990-8afd-4d5a-b35d-b93071c5c198"
      },
      "outputs": [
        {
          "output_type": "stream",
          "name": "stdout",
          "text": [
            "Accuracy: 0.9857142857142858\n",
            "\n",
            "{'Logistic Regression': 96.9047619047619, 'Decision Tree': 93.57142857142857, 'Random Forest': 99.76190476190476, 'Naive Bayes': 99.52380952380952, 'SVM': 98.57142857142858}\n"
          ]
        }
      ],
      "source": [
        "from sklearn.svm import SVC\n",
        "from sklearn.preprocessing import MinMaxScaler\n",
        "\n",
        "# fit scaler on training data\n",
        "norm = MinMaxScaler().fit(xtrain)\n",
        "x_train_norm = norm.transform(xtrain)\n",
        "# transform testing dataabs\n",
        "x_test_norm = norm.transform(xtest)\n",
        "SVM = SVC(kernel='poly', degree=3, C=1)\n",
        "SVM.fit(x_train_norm,ytrain)\n",
        "ypred = SVM.predict(x_test_norm)\n",
        "\n",
        "accuracy = metrics.accuracy_score(ytest, ypred)\n",
        "print(f\"Accuracy: {accuracy}\",end='\\n\\n')\n",
        "\n",
        "# Adding the model to our dictionary\n",
        "best_model[\"SVM\"] = accuracy*100\n",
        "print(best_model)"
      ]
    },
    {
      "cell_type": "code",
      "execution_count": null,
      "metadata": {
        "id": "f8vJmyLWlf1s",
        "colab": {
          "base_uri": "https://localhost:8080/"
        },
        "outputId": "08495a4c-e6e0-402d-f3dc-e6c269339c40"
      },
      "outputs": [
        {
          "output_type": "stream",
          "name": "stdout",
          "text": [
            "Cross Validation Accuracy 98.3809523809524\n"
          ]
        }
      ],
      "source": [
        "print(f\"Cross Validation Accuracy {cross_val_accuracy(SVM)}\")"
      ]
    },
    {
      "cell_type": "code",
      "execution_count": null,
      "metadata": {
        "id": "zMZ3o7m2lf1s"
      },
      "outputs": [],
      "source": [
        "save_model(SVM,'SVM.pkl')"
      ]
    },
    {
      "cell_type": "markdown",
      "metadata": {
        "id": "ZbCxsXdFlf1t"
      },
      "source": [
        "<h3>XG Boost 🚀</h3>"
      ]
    },
    {
      "cell_type": "code",
      "execution_count": null,
      "metadata": {
        "id": "6EuCfVqDlf1t",
        "colab": {
          "base_uri": "https://localhost:8080/"
        },
        "outputId": "55da1628-f7c8-4ea6-cd5c-7bef582e2450"
      },
      "outputs": [
        {
          "output_type": "stream",
          "name": "stdout",
          "text": [
            "Accuracy: 0.9904761904761905\n",
            "\n",
            "{'Logistic Regression': 96.9047619047619, 'Decision Tree': 93.57142857142857, 'Random Forest': 99.76190476190476, 'Naive Bayes': 99.52380952380952, 'SVM': 98.57142857142858, 'XGB': 99.04761904761905}\n"
          ]
        }
      ],
      "source": [
        "import xgboost as xgb\n",
        "from sklearn import metrics\n",
        "from sklearn.preprocessing import LabelEncoder\n",
        "\n",
        "# Encode the target variable 'y' into integer labels\n",
        "label_encoder = LabelEncoder()\n",
        "y_encoded = label_encoder.fit_transform(ytrain)\n",
        "\n",
        "# Create and fit the XGBoost classifier\n",
        "XGB = xgb.XGBClassifier()\n",
        "XGB.fit(xtrain, y_encoded)\n",
        "\n",
        "# Predict the labels for the test set\n",
        "ypred = XGB.predict(xtest)\n",
        "\n",
        "# Decode the predicted labels back to their original string labels\n",
        "ypred_decoded = label_encoder.inverse_transform(ypred)\n",
        "\n",
        "# Calculate and print the accuracy\n",
        "accuracy = metrics.accuracy_score(ytest, ypred_decoded)\n",
        "print(f\"Accuracy: {accuracy}\",end='\\n\\n')\n",
        "\n",
        "# Adding the model to our dictionary\n",
        "best_model[\"XGB\"] = accuracy*100\n",
        "print(best_model)"
      ]
    },
    {
      "cell_type": "markdown",
      "metadata": {
        "id": "oeRLN0Bglf2A"
      },
      "source": [
        "<h3> Tensorflow </h3>"
      ]
    },
    {
      "cell_type": "code",
      "execution_count": null,
      "metadata": {
        "id": "0dNtjEeYlf2B",
        "colab": {
          "base_uri": "https://localhost:8080/"
        },
        "outputId": "6b6af4c0-13d7-442c-d043-0b428fccf2eb"
      },
      "outputs": [
        {
          "output_type": "stream",
          "name": "stdout",
          "text": [
            "Epoch 1/20\n",
            "53/53 [==============================] - 1s 7ms/step - loss: 2.2891 - accuracy: 0.3958 - val_loss: 1.2515 - val_accuracy: 0.6905\n",
            "Epoch 2/20\n",
            "53/53 [==============================] - 0s 4ms/step - loss: 0.6463 - accuracy: 0.8167 - val_loss: 0.3616 - val_accuracy: 0.9048\n",
            "Epoch 3/20\n",
            "53/53 [==============================] - 0s 3ms/step - loss: 0.2724 - accuracy: 0.9119 - val_loss: 0.1791 - val_accuracy: 0.9357\n",
            "Epoch 4/20\n",
            "53/53 [==============================] - 0s 3ms/step - loss: 0.1700 - accuracy: 0.9411 - val_loss: 0.1577 - val_accuracy: 0.9571\n",
            "Epoch 5/20\n",
            "53/53 [==============================] - 0s 4ms/step - loss: 0.1336 - accuracy: 0.9595 - val_loss: 0.1596 - val_accuracy: 0.9405\n",
            "Epoch 6/20\n",
            "53/53 [==============================] - 0s 4ms/step - loss: 0.1122 - accuracy: 0.9607 - val_loss: 0.0824 - val_accuracy: 0.9738\n",
            "Epoch 7/20\n",
            "53/53 [==============================] - 0s 3ms/step - loss: 0.1046 - accuracy: 0.9625 - val_loss: 0.0889 - val_accuracy: 0.9643\n",
            "Epoch 8/20\n",
            "53/53 [==============================] - 0s 3ms/step - loss: 0.0798 - accuracy: 0.9702 - val_loss: 0.0587 - val_accuracy: 0.9786\n",
            "Epoch 9/20\n",
            "53/53 [==============================] - 0s 3ms/step - loss: 0.0764 - accuracy: 0.9720 - val_loss: 0.0584 - val_accuracy: 0.9833\n",
            "Epoch 10/20\n",
            "53/53 [==============================] - 0s 3ms/step - loss: 0.0654 - accuracy: 0.9762 - val_loss: 0.0514 - val_accuracy: 0.9833\n",
            "Epoch 11/20\n",
            "53/53 [==============================] - 0s 3ms/step - loss: 0.0629 - accuracy: 0.9738 - val_loss: 0.0589 - val_accuracy: 0.9762\n",
            "Epoch 12/20\n",
            "53/53 [==============================] - 0s 3ms/step - loss: 0.0707 - accuracy: 0.9762 - val_loss: 0.0455 - val_accuracy: 0.9857\n",
            "Epoch 13/20\n",
            "53/53 [==============================] - 0s 3ms/step - loss: 0.0614 - accuracy: 0.9786 - val_loss: 0.0396 - val_accuracy: 0.9857\n",
            "Epoch 14/20\n",
            "53/53 [==============================] - 0s 5ms/step - loss: 0.0546 - accuracy: 0.9804 - val_loss: 0.0383 - val_accuracy: 0.9881\n",
            "Epoch 15/20\n",
            "53/53 [==============================] - 0s 5ms/step - loss: 0.0444 - accuracy: 0.9851 - val_loss: 0.0392 - val_accuracy: 0.9905\n",
            "Epoch 16/20\n",
            "53/53 [==============================] - 0s 5ms/step - loss: 0.0428 - accuracy: 0.9839 - val_loss: 0.0363 - val_accuracy: 0.9905\n",
            "Epoch 17/20\n",
            "53/53 [==============================] - 0s 7ms/step - loss: 0.0455 - accuracy: 0.9815 - val_loss: 0.0337 - val_accuracy: 0.9881\n",
            "Epoch 18/20\n",
            "53/53 [==============================] - 0s 8ms/step - loss: 0.0382 - accuracy: 0.9839 - val_loss: 0.0331 - val_accuracy: 0.9905\n",
            "Epoch 19/20\n",
            "53/53 [==============================] - 0s 7ms/step - loss: 0.0321 - accuracy: 0.9881 - val_loss: 0.0295 - val_accuracy: 0.9881\n",
            "Epoch 20/20\n",
            "53/53 [==============================] - 1s 11ms/step - loss: 0.0357 - accuracy: 0.9857 - val_loss: 0.0252 - val_accuracy: 0.9905\n",
            "14/14 [==============================] - 0s 2ms/step - loss: 0.0252 - accuracy: 0.9905\n",
            "Test Loss: 0.025219624862074852\n",
            "Test Accuracy: 0.9904761910438538\n"
          ]
        }
      ],
      "source": [
        "import tensorflow as tf\n",
        "from tensorflow import keras\n",
        "from tensorflow.keras.models import Sequential\n",
        "from tensorflow.keras.layers import Dense\n",
        "from sklearn.preprocessing import LabelEncoder\n",
        "\n",
        "# Initialize LabelEncoder\n",
        "label_encoder = LabelEncoder()\n",
        "\n",
        "# Fit label encoder on the target labels and transform them\n",
        "ytrain_encoded = label_encoder.fit_transform(ytrain)\n",
        "ytest_encoded = label_encoder.transform(ytest)\n",
        "\n",
        "# Build the model\n",
        "model = Sequential()\n",
        "# Shape (None,7)\n",
        "model.add(Dense(64, activation='relu', input_shape=(7,)))\n",
        "model.add(Dense(128, activation='relu'))  # Additional layer\n",
        "model.add(Dense(128, activation='relu'))  # Additional layer\n",
        "model.add(Dense(64, activation='relu'))  # Additional layer\n",
        "model.add(Dense(22, activation='softmax'))\n",
        "\n",
        "# Compile the model\n",
        "model.compile(optimizer='adam', loss='sparse_categorical_crossentropy', metrics=['accuracy'])\n",
        "\n",
        "# Define the callback\n",
        "class AccuracyCallback(keras.callbacks.Callback):\n",
        "    def on_epoch_end(self, epoch, logs=None):\n",
        "        if logs.get('accuracy') >= 0.99 and logs.get('val_accuracy') >= 0.99:\n",
        "            self.model.stop_training = True\n",
        "\n",
        "# Create an instance of the callback\n",
        "callback = AccuracyCallback()\n",
        "\n",
        "# Train the model with the encoded target labels and the callback\n",
        "model.fit(xtrain_scaled, ytrain_encoded, epochs=20, batch_size=32, validation_data=(xtest_scaled, ytest_encoded), callbacks=[callback])\n",
        "\n",
        "# Evaluate the model\n",
        "test_loss, test_acc = model.evaluate(xtest_scaled, ytest_encoded)\n",
        "print(f\"Test Loss: {test_loss}\")\n",
        "print(f\"Test Accuracy: {test_acc}\")\n"
      ]
    },
    {
      "cell_type": "code",
      "execution_count": null,
      "metadata": {
        "id": "nh1EITUXlf2B",
        "colab": {
          "base_uri": "https://localhost:8080/"
        },
        "outputId": "e30bd5e9-b598-4c1e-c276-4946804cbf4d"
      },
      "outputs": [
        {
          "output_type": "stream",
          "name": "stdout",
          "text": [
            "{'Logistic Regression': 96.9047619047619, 'Decision Tree': 93.57142857142857, 'Random Forest': 99.76190476190476, 'Naive Bayes': 99.52380952380952, 'SVM': 98.57142857142858, 'XGB': 99.04761904761905, 'TensorFlow': 99.04761910438538}\n"
          ]
        }
      ],
      "source": [
        "best_model['TensorFlow'] = test_acc*100\n",
        "print(best_model)"
      ]
    },
    {
      "cell_type": "code",
      "execution_count": null,
      "metadata": {
        "id": "3UsLH104lf2B"
      },
      "outputs": [],
      "source": [
        "# Save the model\n",
        "model.save(\"tensorflow_model\")"
      ]
    },
    {
      "cell_type": "markdown",
      "metadata": {
        "id": "T5g9bo7Alf2C"
      },
      "source": [
        "<h3> Comparing all models 📊 </h3>"
      ]
    },
    {
      "cell_type": "code",
      "execution_count": null,
      "metadata": {
        "id": "Zria8rdDlf2C",
        "colab": {
          "base_uri": "https://localhost:8080/",
          "height": 472
        },
        "outputId": "ae65bc7c-69a7-4a08-8dcd-89e2f3cc6a4d"
      },
      "outputs": [
        {
          "output_type": "display_data",
          "data": {
            "text/plain": [
              "<Figure size 640x480 with 1 Axes>"
            ],
            "image/png": "[encoded data removed]"
          },
          "metadata": {}
        }
      ],
      "source": [
        "# Extract model names and accuracies from the best_model dictionary\n",
        "accuracies = list(best_model.values())\n",
        "model_names = list(best_model.keys())\n",
        "\n",
        "# Create a bar plot using seaborn\n",
        "sns.barplot(x=accuracies, y=model_names)\n",
        "plt.xlabel('Model')\n",
        "plt.ylabel('Accuracy')\n",
        "plt.title('Model Accuracies')\n",
        "plt.show()\n"
      ]
    },
    {
      "cell_type": "code",
      "execution_count": null,
      "metadata": {
        "id": "k-_Z3T_ilf2C",
        "colab": {
          "base_uri": "https://localhost:8080/"
        },
        "outputId": "747ec0e3-5dad-4d1a-f337-303466393834"
      },
      "outputs": [
        {
          "output_type": "stream",
          "name": "stdout",
          "text": [
            "Random Forest: 99.76190476190476\n",
            "Naive Bayes: 99.52380952380952\n",
            "TensorFlow: 99.04761910438538\n",
            "XGB: 99.04761904761905\n",
            "SVM: 98.57142857142858\n",
            "Logistic Regression: 96.9047619047619\n",
            "Decision Tree: 93.57142857142857\n"
          ]
        }
      ],
      "source": [
        "# Sort the dictionary items by values in descending order\n",
        "sorted_items = sorted(best_model.items(), key=lambda x: x[1], reverse=True)\n",
        "\n",
        "# Print the keys and values in descending order\n",
        "for key, value in sorted_items:\n",
        "    print(f\"{key}: {value}\")"
      ]
    },
    {
      "cell_type": "code",
      "execution_count": null,
      "metadata": {
        "id": "itEb3_lwlf2C",
        "colab": {
          "base_uri": "https://localhost:8080/"
        },
        "outputId": "49cd78a7-7a37-420d-ad23-b1772483921b"
      },
      "outputs": [
        {
          "output_type": "stream",
          "name": "stdout",
          "text": [
            "Key: Random Forest, Value: 99.76190476190476\n"
          ]
        }
      ],
      "source": [
        "max_key = max(best_model, key=best_model.get)\n",
        "max_value = best_model[max_key]\n",
        "\n",
        "print(f\"Key: {max_key}, Value: {max_value}\")"
      ]
    },
    {
      "cell_type": "markdown",
      "metadata": {
        "id": "GJ2C_EUflf2D"
      },
      "source": [
        "<h3> Using the model 🦾 </h3>"
      ]
    },
    {
      "cell_type": "code",
      "execution_count": null,
      "metadata": {
        "id": "uk8OI0PYlf2D",
        "colab": {
          "base_uri": "https://localhost:8080/"
        },
        "outputId": "b3553d98-c468-44d5-c580-7e206406c07b"
      },
      "outputs": [
        {
          "output_type": "stream",
          "name": "stdout",
          "text": [
            "      N    P    K  temperature   humidity        ph   rainfall    label\n",
            "1270  6  140  205    17.665584  82.929034  6.313086  69.867126  lettuce\n"
          ]
        }
      ],
      "source": [
        "# Randomly select one row from the DataFrame\n",
        "random_row = df.sample(n=1)\n",
        "\n",
        "print(random_row)\n",
        "\n",
        "# Extract the values of 'N', 'P', 'K', 'temperature', 'humidity', 'ph', and 'rainfall' from the random row\n",
        "random_values = random_row[['N', 'P', 'K', 'temperature', 'humidity', 'ph', 'rainfall']].values\n"
      ]
    },
    {
      "cell_type": "code",
      "execution_count": null,
      "metadata": {
        "id": "EYuyTJWtlf2D",
        "colab": {
          "base_uri": "https://localhost:8080/"
        },
        "outputId": "c529a3cc-ca40-4cdd-e0a5-13cdd5b60ad4"
      },
      "outputs": [
        {
          "output_type": "stream",
          "name": "stdout",
          "text": [
            "['lettuce']\n"
          ]
        }
      ],
      "source": [
        "data = np.array(random_values)\n",
        "data_with_feature_names = pd.DataFrame(data, columns=['N', 'P', 'K', 'temperature', 'humidity', 'ph', 'rainfall'])\n",
        "prediction = NaiveBayes.predict(data_with_feature_names)\n",
        "print(prediction)"
      ]
    },
    {
      "cell_type": "code",
      "execution_count": null,
      "metadata": {
        "id": "sFvWUtZdlf2E",
        "colab": {
          "base_uri": "https://localhost:8080/"
        },
        "outputId": "a9db334e-c817-47fd-ddb6-aa52e501c05c"
      },
      "outputs": [
        {
          "output_type": "stream",
          "name": "stdout",
          "text": [
            "      N   P   K  temperature   humidity        ph   rainfall        label\n",
            "121  99  50  15    18.147101  71.094453  5.573286  88.077537  cauliflower\n"
          ]
        }
      ],
      "source": [
        "# Randomly select one row from the DataFrame\n",
        "random_row = df.sample(n=1)\n",
        "\n",
        "print(random_row)\n",
        "\n",
        "# Extract the values of 'N', 'P', 'K', 'temperature', 'humidity', 'ph', and 'rainfall' from the random row\n",
        "random_values = random_row[['N', 'P', 'K', 'temperature', 'humidity', 'ph', 'rainfall']].values\n"
      ]
    },
    {
      "cell_type": "code",
      "execution_count": null,
      "metadata": {
        "id": "eDw1ZecIlf2E",
        "colab": {
          "base_uri": "https://localhost:8080/"
        },
        "outputId": "aeb8fab6-1350-402d-b96b-311cf3eac4b1"
      },
      "outputs": [
        {
          "output_type": "stream",
          "name": "stdout",
          "text": [
            "['cauliflower']\n"
          ]
        }
      ],
      "source": [
        "data = np.array(random_values)\n",
        "data_with_feature_names = pd.DataFrame(data, columns=['N', 'P', 'K', 'temperature', 'humidity', 'ph', 'rainfall'])\n",
        "prediction = NaiveBayes.predict(data_with_feature_names)\n",
        "print(prediction)"
      ]
    }
  ],
  "metadata": {
    "colab": {
      "provenance": [],
      "include_colab_link": true
    },
    "kernelspec": {
      "display_name": "Python 3",
      "language": "python",
      "name": "python3"
    },
    "language_info": {
      "codemirror_mode": {
        "name": "ipython",
        "version": 3
      },
      "file_extension": ".py",
      "mimetype": "text/x-python",
      "name": "python",
      "nbconvert_exporter": "python",
      "pygments_lexer": "ipython3",
      "version": "3.10.10"
    }
  },
  "nbformat": 4,
  "nbformat_minor": 0
}